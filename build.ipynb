{
 "cells": [
  {
   "cell_type": "markdown",
   "metadata": {},
   "source": [
    "## Imports"
   ]
  },
  {
   "cell_type": "code",
   "execution_count": 1,
   "metadata": {},
   "outputs": [
    {
     "data": {
      "text/plain": [
       "<module 'build' from '/Users/danielscott/Desktop/Schhol/genetic_world_building/build.py'>"
      ]
     },
     "execution_count": 1,
     "metadata": {},
     "output_type": "execute_result"
    }
   ],
   "source": [
    "import importlib\n",
    "import build\n",
    "import matplotlib.pyplot as plt\n",
    "import seaborn as sns\n",
    "\n",
    "importlib.reload(build)"
   ]
  },
  {
   "cell_type": "markdown",
   "metadata": {},
   "source": [
    "# Instantiate Model"
   ]
  },
  {
   "cell_type": "code",
   "execution_count": 2,
   "metadata": {},
   "outputs": [
    {
     "name": "stdout",
     "output_type": "stream",
     "text": [
      "Generation: 1 Fitness: 50.99\n"
     ]
    },
    {
     "data": {
      "text/plain": [
       "<build.GeneticAlgo at 0x1a205e5ed0>"
      ]
     },
     "execution_count": 2,
     "metadata": {},
     "output_type": "execute_result"
    }
   ],
   "source": [
    "model = build.GeneticAlgo(N=80,\n",
    "                          mutate_proba=0.01,\n",
    "                          max_epochs=1,\n",
    "                         auto_plot=False)\n",
    "model.run()"
   ]
  },
  {
   "cell_type": "code",
   "execution_count": null,
   "metadata": {
    "scrolled": false
   },
   "outputs": [
    {
     "name": "stdout",
     "output_type": "stream",
     "text": [
      "Generation: 81 Fitness: 88.3\n",
      "Generation: 101 Fitness: 96.3\n"
     ]
    }
   ],
   "source": [
    "d = build.DynamicTuner(model,max_epochs=2000)\n",
    "d.run()"
   ]
  },
  {
   "cell_type": "markdown",
   "metadata": {},
   "source": [
    "#### Uncomment this section to watch the realtime evolution"
   ]
  },
  {
   "cell_type": "code",
   "execution_count": null,
   "metadata": {
    "scrolled": false
   },
   "outputs": [],
   "source": [
    "# model.auto_plot=False\n",
    "# model.max_epochs=-1\n",
    "# model.run()"
   ]
  },
  {
   "cell_type": "markdown",
   "metadata": {},
   "source": [
    "# Generate Animation"
   ]
  },
  {
   "cell_type": "code",
   "execution_count": null,
   "metadata": {},
   "outputs": [],
   "source": [
    "import animatplot as amp\n",
    "import numpy as np\n",
    "\n",
    "# Animation duration\n",
    "skip_interval =1\n",
    "t = range(0,len(model.generation_list),skip_interval)\n",
    "worlds = [model.generation_list[i].world for i in t] \n",
    "\n",
    "# Setup Fitness array\n",
    "fitness_idx = [[x] for x in range(0,len(model.generation_fitness),skip_interval)]\n",
    "fitness_values = [[model.generation_fitness[x]] for x in range(0,len(model.generation_fitness),skip_interval)]\n",
    "\n",
    "# Create Figure\n",
    "fig, (ax1, ax2) = plt.subplots(1, 2)\n",
    "ax2.set_xlim(0,len(model.generation_fitness))\n",
    "ax2.set_ylim(0,max(model.generation_fitness))\n",
    "ax2.set_xlabel('Generation')\n",
    "ax2.set_ylabel('Fitness Function')\n",
    "ax2.set_title('Generation vs Fitness')\n",
    "plt.gca().set_aspect('auto')\n",
    "plt.tight_layout()\n",
    "\n",
    "# Animation Settings\n",
    "print(np.array(worlds).shape)\n",
    "timeline = amp.Timeline(t, fps=30)\n",
    "block = amp.blocks.Imshow(worlds,ax=ax1)\n",
    "block2 = amp.blocks.Scatter(fitness_idx,fitness_values,ax=ax2)\n",
    "anim = amp.Animation([block,block2], timeline)\n",
    "\n",
    "anim.controls()\n",
    "anim.save_gif('generation_fitness11')\n",
    "plt.show()"
   ]
  },
  {
   "cell_type": "code",
   "execution_count": null,
   "metadata": {},
   "outputs": [],
   "source": []
  },
  {
   "cell_type": "code",
   "execution_count": null,
   "metadata": {},
   "outputs": [],
   "source": []
  },
  {
   "cell_type": "code",
   "execution_count": null,
   "metadata": {},
   "outputs": [],
   "source": []
  },
  {
   "cell_type": "markdown",
   "metadata": {},
   "source": []
  }
 ],
 "metadata": {
  "kernelspec": {
   "display_name": "Python 3",
   "language": "python",
   "name": "python3"
  },
  "language_info": {
   "codemirror_mode": {
    "name": "ipython",
    "version": 3
   },
   "file_extension": ".py",
   "mimetype": "text/x-python",
   "name": "python",
   "nbconvert_exporter": "python",
   "pygments_lexer": "ipython3",
   "version": "3.7.6"
  }
 },
 "nbformat": 4,
 "nbformat_minor": 2
}
